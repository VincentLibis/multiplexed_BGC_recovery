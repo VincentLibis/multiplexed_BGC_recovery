{
 "cells": [
  {
   "cell_type": "code",
   "execution_count": null,
   "metadata": {},
   "outputs": [],
   "source": [
    "import pandas as pd\n",
    "import os\n",
    "import re\n",
    "from Bio import SeqIO\n",
    "import subprocess \n",
    "import matplotlib.pyplot as plt\n",
    "import networkx as nx\n",
    "import numpy as np\n",
    "\n",
    "%matplotlib inline\n"
   ]
  },
  {
   "cell_type": "code",
   "execution_count": null,
   "metadata": {},
   "outputs": [],
   "source": [
    "Dir='/nasdata/Vincent/Strep/nanopore/'\n",
    "os.chdir(Dir)\n",
    "nanoporeData='/nasdata/Vincent/Strep/nanopore/PAC38/fastq_pass/'\n",
    "\n",
    "mergedSeqFile=Dir+'PAC38.fastq'\n",
    "cmd='cat '+nanoporeData+'*.fastq > '+mergedSeqFile\n",
    "print cmd\n",
    "subprocess.call(cmd, shell= True) "
   ]
  },
  {
   "cell_type": "code",
   "execution_count": null,
   "metadata": {},
   "outputs": [],
   "source": [
    "vectorFa='/nasdata/Strep/nanopore/pESAC-Apramycin_16kbCore.fasta'\n",
    "fastqOut='PAC38_combined_all_clipped_vector.fastq'\n",
    "\n",
    "#find vector in sequences \n",
    "cmd=\"minimap2 -a \"+vectorFa+\" \"+mergedSeqFile+\" | samtools sort -@ 60 -o ALL.sorted.bam -\"\n",
    "subprocess.call(cmd, shell= True) \n",
    "subprocess.call([\"samtools view -@ 60 -b -F 4 ALL.sorted.bam > vector_mapped.bam\"], shell= True)\n",
    "subprocess.call([\"samtools view -b -f 4 ALL.sorted.bam > unmapped.bam\"], shell= True)\n",
    "#contigs without vector are kept as is\n",
    "subprocess.call([\"samtools bam2fq unmapped.bam > unmapped.fastq\"], shell= True)\n",
    "\n",
    "#contigs with vector have their non-aligned (clipped) parts extracted\n",
    "subprocess.call([\"java -jar /home/vlibis/jvarkit/dist/samextractclip.jar --minsize 1000 -o /nasdata/Vincent/Strep/nanopore/soft_clipped.fq /nasdata/Vincent/Strep/nanopore/vector_mapped.bam\"], shell= True)\n",
    "\n",
    "#merge contigs without vector and non-vector clipped parts from the other contigs\n",
    "cmd =\"cat soft_clipped.fq unmapped.fastq > \"+fastqOut\n",
    "print cmd\n",
    "subprocess.call(cmd, shell= True)\n",
    "\n",
    "cmd='seqkit seq '+fastqOut+' -m 1000 > sized_'+fastqOut\n",
    "print cmd\n",
    "subprocess.call(cmd, shell= True)\n",
    "\n",
    "cmd='rename.sh in=sized_'+fastqOut+' out=renamed_sized_'+fastqOut+' prefix=nano'\n",
    "print cmd\n",
    "subprocess.call(cmd, shell= True)\n",
    "print 'renamed_sized_'+fastqOut"
   ]
  },
  {
   "cell_type": "code",
   "execution_count": null,
   "metadata": {},
   "outputs": [],
   "source": [
    "#run FLYE assembler\n",
    "cmd=\"flye --nano-raw /nasdata/Vincent/Strep/nanopore/renamed_sized_PAC38_combined_all_clipped_vector.fq --out-dir FLYE_PAC38 --threads 60\"\n",
    "subprocess.call(cmd, shell= True) "
   ]
  }
 ],
 "metadata": {
  "kernelspec": {
   "display_name": "Python 2",
   "language": "python",
   "name": "python2"
  },
  "language_info": {
   "codemirror_mode": {
    "name": "ipython",
    "version": 2
   },
   "file_extension": ".py",
   "mimetype": "text/x-python",
   "name": "python",
   "nbconvert_exporter": "python",
   "pygments_lexer": "ipython2",
   "version": "2.7.17"
  }
 },
 "nbformat": 4,
 "nbformat_minor": 2
}
